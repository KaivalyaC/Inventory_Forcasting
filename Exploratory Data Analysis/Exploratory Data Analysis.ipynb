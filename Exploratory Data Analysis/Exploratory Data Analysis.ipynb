{
 "cells": [
  {
   "cell_type": "markdown",
   "id": "ca034b51",
   "metadata": {
    "id": "jpsxhP9Dr5Af"
   },
   "source": [
    "# Task 1 - Exploratory Data Analysis\n",
    "\n",
    "This notebook will walk you through this task interactively, meaning that once you've imported this notebook into `Google Colab`, you'll be able to run individual cells of code independantly, and see the results as you go.\n",
    "\n",
    "This notebooks is designed for users that have an understanding of Python and data analysis. There will be some helper functions and initial setup code provided, but it will be up to you to perform the analysis and to draw insights!\n",
    "\n",
    "---\n",
    "\n",
    "## Section 1 - Imports\n"
   ]
  },
  {
   "cell_type": "code",
   "execution_count": 26,
   "id": "b7e23110",
   "metadata": {
    "id": "_SP0zwPYq-ef"
   },
   "outputs": [],
   "source": [
    "import pandas as pd\n",
    "pd.set_option('display.max_columns', None)\n",
    "pd.options.display.float_format = '{:.2f}'.format\n",
    "import numpy as np\n",
    "\n",
    "# Graphics\n",
    "import seaborn as sns\n",
    "import matplotlib.pyplot as plt\n",
    "import plotly.graph_objects as go\n",
    "\n",
    "# ML\n",
    "from sklearn.model_selection import train_test_split\n",
    "from sklearn.linear_model import LogisticRegression\n",
    "from sklearn.neighbors import NearestNeighbors, KNeighborsClassifier\n",
    "from sklearn import metrics\n",
    "from sklearn.metrics import plot_confusion_matrix\n",
    "\n",
    "from scipy import stats"
   ]
  },
  {
   "cell_type": "code",
   "execution_count": 27,
   "id": "ca3c13f3",
   "metadata": {},
   "outputs": [],
   "source": [
    "def summaryStats(X,feature_list):\n",
    "    q1 = X[feature_list].quantile(0.25)\n",
    "    q3 = X[feature_list].quantile(0.75)\n",
    "    iqr = q3-q1 #Interquartile range\n",
    "    fence_low  = q1-1.5*iqr\n",
    "    fence_high = q3+1.5*iqr\n",
    "    \n",
    "    temp = pd.DataFrame(dict(mean = X[feature_list].mean().round(2),\n",
    "                             median = X[feature_list].median().round(2),\n",
    "                             std_dev = X[feature_list].std().round(2),\n",
    "                             min_val = X[feature_list].min().round(2),\n",
    "                             max_val = X[feature_list].max().round(2),\n",
    "                             null_values = X[feature_list].isnull().sum(),\n",
    "                             lower_bound = fence_low,\n",
    "                             upper_bound = fence_high,\n",
    "                             outliers_from_IQR = ((X[feature_list] < fence_low) | (X[feature_list] > fence_high)).sum(),\n",
    "                             outliers_from_Zscore = (np.abs(stats.zscore(X[feature_list])) > 3).sum()\n",
    "                            ))\n",
    "    return temp\n",
    "\n",
    "def remove_outlier(df_in, col_name):\n",
    "    q1 = df_in[col_name].quantile(0.25)\n",
    "    q3 = df_in[col_name].quantile(0.75)\n",
    "    iqr = q3-q1 #Interquartile range\n",
    "    fence_low  = q1-1.5*iqr\n",
    "    fence_high = q3+1.5*iqr\n",
    "    df_out = df_in.loc[(df_in[col_name] > fence_low) & (df_in[col_name] < fence_high)]\n",
    "    return df_out\n",
    "\n",
    "def target_by_cats(X):\n",
    "    '''\n",
    "    This function assumes the input dataframe (X) has a numerically defined target\n",
    "    variable in the first column and that all remaining features are categorical\n",
    "    '''\n",
    "    global_mean = X.iloc[:,0].mean()\n",
    "    target = X.columns[0]\n",
    "    for col in X.columns[1:]:\n",
    "        df_group = X.groupby(by=col)[target].agg(['mean']).round(2)\n",
    "        df_group['diff'] = (df_group['mean'] - global_mean).round(2)\n",
    "        df_group['%diff'] = (df_group['diff']/df_group['mean'])*100\n",
    "        display(df_group)\n",
    "\n",
    "def trainTestMetrics(X_train,X_test,y_train,y_test,model):\n",
    "    names=['R2','Adj-R2','MAE','MAPE','SSE'] \n",
    "    \n",
    "    # Training Metrics\n",
    "    y_hat = model.predict(X_train)\n",
    "    \n",
    "    # Create R2\n",
    "    r2 = r2_score(y_train,y_hat).round(3)\n",
    "    \n",
    "    # Create adj_R2\n",
    "    adj_r2 = (1-(1-r2_score(y_train,y_hat))*(len(y_train)-1)/(len(y_train)-len(model.coef_)-1)).round(3)\n",
    "\n",
    "    \n",
    "    train_metrics = [r2, adj_r2,\n",
    "                     mean_absolute_error(y_train,y_hat).round(3),\n",
    "                     mean_absolute_percentage_error(y_train,y_hat).round(3)*100,\n",
    "                     (mean_squared_error(y_train,y_hat)*len(y_train)).round(3)\n",
    "                    ]\n",
    "    train_metrics = pd.DataFrame({'Train':train_metrics},index=names)\n",
    "    \n",
    "    # Testing Metrics\n",
    "    y_hat = model.predict(X_test)\n",
    "    test_metrics = [r2_score(y_test,y_hat).round(3),\n",
    "                    (1-(1-r2_score(y_test,y_hat))*(len(y_test)-1)/(len(y_test)-len(model.coef_)-1)).round(3),\n",
    "                    mean_absolute_error(y_test,y_hat).round(3),\n",
    "                    mean_absolute_percentage_error(y_test,y_hat).round(3)*100,\n",
    "                    (mean_squared_error(y_test,y_hat)*len(y_test)).round(3)\n",
    "                   ]\n",
    "    test_metrics = pd.DataFrame({'Test':test_metrics},index=names)\n",
    "    \n",
    "    all_metrics = train_metrics.merge(test_metrics,left_index=True,right_index=True)\n",
    "    print(all_metrics)"
   ]
  },
  {
   "cell_type": "markdown",
   "id": "15baed52",
   "metadata": {
    "id": "M5nmOA2Rtd2E"
   },
   "source": [
    "---\n",
    "\n",
    "## Section 2 - Data loading\n",
    "\n",
    "Now that Google Drive is mounted, you can store the CSV file anywhere in your Drive and update the `path` variable below to access it within this notebook. Once we've updated the `path`, let's read this CSV file into a pandas dataframe and see what it looks like"
   ]
  },
  {
   "cell_type": "code",
   "execution_count": 28,
   "id": "e872faac",
   "metadata": {
    "colab": {
     "base_uri": "https://localhost:8080/",
     "height": 250
    },
    "id": "oDB-Ylm3q_wk",
    "outputId": "b2ae17b8-120e-437c-c3d4-990b6334e0e6"
   },
   "outputs": [
    {
     "data": {
      "text/html": [
       "<div>\n",
       "<style scoped>\n",
       "    .dataframe tbody tr th:only-of-type {\n",
       "        vertical-align: middle;\n",
       "    }\n",
       "\n",
       "    .dataframe tbody tr th {\n",
       "        vertical-align: top;\n",
       "    }\n",
       "\n",
       "    .dataframe thead th {\n",
       "        text-align: right;\n",
       "    }\n",
       "</style>\n",
       "<table border=\"1\" class=\"dataframe\">\n",
       "  <thead>\n",
       "    <tr style=\"text-align: right;\">\n",
       "      <th></th>\n",
       "      <th>transaction_id</th>\n",
       "      <th>timestamp</th>\n",
       "      <th>product_id</th>\n",
       "      <th>category</th>\n",
       "      <th>customer_type</th>\n",
       "      <th>unit_price</th>\n",
       "      <th>quantity</th>\n",
       "      <th>total</th>\n",
       "      <th>payment_type</th>\n",
       "    </tr>\n",
       "  </thead>\n",
       "  <tbody>\n",
       "    <tr>\n",
       "      <th>7824</th>\n",
       "      <td>6c19b9fc-f86d-4526-9dfe-d8027a4d13ee</td>\n",
       "      <td>2022-03-03 18:22:09</td>\n",
       "      <td>bc6187a9-d508-482b-9ca6-590d1cc7524f</td>\n",
       "      <td>cleaning products</td>\n",
       "      <td>basic</td>\n",
       "      <td>14.19</td>\n",
       "      <td>2</td>\n",
       "      <td>28.38</td>\n",
       "      <td>e-wallet</td>\n",
       "    </tr>\n",
       "    <tr>\n",
       "      <th>7825</th>\n",
       "      <td>1c69824b-e399-4b79-a5e7-04a3a7db0681</td>\n",
       "      <td>2022-03-04 19:14:46</td>\n",
       "      <td>707e4237-191c-4cc9-85af-383a6c1cb2ab</td>\n",
       "      <td>cleaning products</td>\n",
       "      <td>standard</td>\n",
       "      <td>16.99</td>\n",
       "      <td>1</td>\n",
       "      <td>16.99</td>\n",
       "      <td>credit card</td>\n",
       "    </tr>\n",
       "    <tr>\n",
       "      <th>7826</th>\n",
       "      <td>79aee7d6-1405-4345-9a15-92541e9e1e74</td>\n",
       "      <td>2022-03-03 14:00:09</td>\n",
       "      <td>a9325c1a-2715-41df-b7f4-3078fa5ecd97</td>\n",
       "      <td>cleaning products</td>\n",
       "      <td>basic</td>\n",
       "      <td>14.19</td>\n",
       "      <td>2</td>\n",
       "      <td>28.38</td>\n",
       "      <td>credit card</td>\n",
       "    </tr>\n",
       "    <tr>\n",
       "      <th>7827</th>\n",
       "      <td>e5cc4f88-e5b7-4ad5-bc1b-12a828a14f55</td>\n",
       "      <td>2022-03-04 15:11:38</td>\n",
       "      <td>707e4237-191c-4cc9-85af-383a6c1cb2ab</td>\n",
       "      <td>cleaning products</td>\n",
       "      <td>basic</td>\n",
       "      <td>16.99</td>\n",
       "      <td>4</td>\n",
       "      <td>67.96</td>\n",
       "      <td>cash</td>\n",
       "    </tr>\n",
       "    <tr>\n",
       "      <th>7828</th>\n",
       "      <td>afd70b4f-ee21-402d-8d8f-0d9e13c2bea6</td>\n",
       "      <td>2022-03-06 13:50:36</td>\n",
       "      <td>d6ccd088-11be-4c25-aa1f-ea87c01a04db</td>\n",
       "      <td>cleaning products</td>\n",
       "      <td>non-member</td>\n",
       "      <td>14.99</td>\n",
       "      <td>4</td>\n",
       "      <td>59.96</td>\n",
       "      <td>debit card</td>\n",
       "    </tr>\n",
       "  </tbody>\n",
       "</table>\n",
       "</div>"
      ],
      "text/plain": [
       "                            transaction_id            timestamp  \\\n",
       "7824  6c19b9fc-f86d-4526-9dfe-d8027a4d13ee  2022-03-03 18:22:09   \n",
       "7825  1c69824b-e399-4b79-a5e7-04a3a7db0681  2022-03-04 19:14:46   \n",
       "7826  79aee7d6-1405-4345-9a15-92541e9e1e74  2022-03-03 14:00:09   \n",
       "7827  e5cc4f88-e5b7-4ad5-bc1b-12a828a14f55  2022-03-04 15:11:38   \n",
       "7828  afd70b4f-ee21-402d-8d8f-0d9e13c2bea6  2022-03-06 13:50:36   \n",
       "\n",
       "                                product_id           category customer_type  \\\n",
       "7824  bc6187a9-d508-482b-9ca6-590d1cc7524f  cleaning products         basic   \n",
       "7825  707e4237-191c-4cc9-85af-383a6c1cb2ab  cleaning products      standard   \n",
       "7826  a9325c1a-2715-41df-b7f4-3078fa5ecd97  cleaning products         basic   \n",
       "7827  707e4237-191c-4cc9-85af-383a6c1cb2ab  cleaning products         basic   \n",
       "7828  d6ccd088-11be-4c25-aa1f-ea87c01a04db  cleaning products    non-member   \n",
       "\n",
       "      unit_price  quantity  total payment_type  \n",
       "7824       14.19         2  28.38     e-wallet  \n",
       "7825       16.99         1  16.99  credit card  \n",
       "7826       14.19         2  28.38  credit card  \n",
       "7827       16.99         4  67.96         cash  \n",
       "7828       14.99         4  59.96   debit card  "
      ]
     },
     "execution_count": 28,
     "metadata": {},
     "output_type": "execute_result"
    }
   ],
   "source": [
    "df = pd.read_csv('sample_sales_data.csv')\n",
    "df.drop(columns=[\"Unnamed: 0\"], inplace=True, errors='ignore')\n",
    "df.tail()"
   ]
  },
  {
   "cell_type": "markdown",
   "id": "f69f3a0d",
   "metadata": {
    "id": "ZI-Q3zvsGWpl"
   },
   "source": [
    "Using the `.head()` method allows us to see the top 5 (5 by default) rows within the dataframe. We can use `.tail()` to see the bottom 5. If you want to see more than 5 rows, simply enter a number into the parentheses, e.g. `head(10)` or `tail(10)`.\n",
    ">- Dataset has around 7828 records. This means as the dataset is large, 1] we can be little harsh while treating the null values and outliers and 2] We can take more percentage of test data (if the dataset remains large after dataprep is completed)\n",
    ">- The column names are pretty self explainatory and we dont need to modify any of them. Out of the 9 columns 3 are continuous,  3 are categorical, 2 are IDs and one column is for time . \n",
    ">- There is no obvious target variable "
   ]
  },
  {
   "cell_type": "markdown",
   "id": "5e3da41c",
   "metadata": {
    "id": "qaXaaIr5Hemv"
   },
   "source": [
    "---\n",
    "\n",
    "## Section 3 - Descriptive statistics\n",
    "\n",
    "In this section, you should try to gain a description of the data, that is: what columns are present, how many null values exist and what data types exists within each column.\n",
    "\n",
    "To get you started an explanation of what the column names mean are provided below:\n",
    "\n",
    "- transaction_id = this is a unique ID that is assigned to each transaction\n",
    "- timestamp = this is the datetime at which the transaction was made\n",
    "- product_id = this is an ID that is assigned to the product that was sold. Each product has a unique ID\n",
    "- category = this is the category that the product is contained within\n",
    "- customer_type = this is the type of customer that made the transaction\n",
    "- unit_price = the price that 1 unit of this item sells for\n",
    "- quantity = the number of units sold for this product within this transaction\n",
    "- total = the total amount payable by the customer\n",
    "- payment_type = the payment method used by the customer\n",
    "\n",
    "After this, you should try to compute some descriptive statistics of the numerical columns within the dataset, such as:\n",
    "\n",
    "- mean\n",
    "- median\n",
    "- count\n",
    "- etc..."
   ]
  },
  {
   "cell_type": "markdown",
   "id": "fcc1c383",
   "metadata": {},
   "source": [
    "### 3.1 Data duplicates<a class=\"anchor\" id=\"data-duplicates\"></a>\n",
    "\n",
    ">- Find and remove all the duplicate records\n",
    ">- Use the inplace = True to change the existing dataFrame"
   ]
  },
  {
   "cell_type": "code",
   "execution_count": 29,
   "id": "f1bfa358",
   "metadata": {
    "id": "sbf25LDJ7FJG"
   },
   "outputs": [
    {
     "name": "stdout",
     "output_type": "stream",
     "text": [
      "Total number of records before dropping the diplicate records:  7829\n",
      "Total number of records after dropping the diplicate records:  7829\n"
     ]
    }
   ],
   "source": [
    "print (\"Total number of records before dropping the diplicate records: \", len(df))\n",
    "df.drop_duplicates(inplace= True)\n",
    "print (\"Total number of records after dropping the diplicate records: \", len(df))"
   ]
  },
  {
   "cell_type": "markdown",
   "id": "33638861",
   "metadata": {},
   "source": [
    "**Observations:**\n",
    ">- There are no duplicates in the dataset\n",
    "    \n",
    "* [Go to DataPrep](#data-prep)"
   ]
  },
  {
   "cell_type": "markdown",
   "id": "3cb0c9cb",
   "metadata": {},
   "source": [
    "### 5.3 Explore the data<a class=\"anchor\" id=\"data-exploration\"></a>\n",
    "\n",
    ">- Describe the data\n",
    ">- Find datatype "
   ]
  },
  {
   "cell_type": "code",
   "execution_count": 30,
   "id": "368f3208",
   "metadata": {
    "scrolled": true
   },
   "outputs": [
    {
     "data": {
      "text/html": [
       "<div>\n",
       "<style scoped>\n",
       "    .dataframe tbody tr th:only-of-type {\n",
       "        vertical-align: middle;\n",
       "    }\n",
       "\n",
       "    .dataframe tbody tr th {\n",
       "        vertical-align: top;\n",
       "    }\n",
       "\n",
       "    .dataframe thead th {\n",
       "        text-align: right;\n",
       "    }\n",
       "</style>\n",
       "<table border=\"1\" class=\"dataframe\">\n",
       "  <thead>\n",
       "    <tr style=\"text-align: right;\">\n",
       "      <th></th>\n",
       "      <th>count</th>\n",
       "      <th>mean</th>\n",
       "      <th>std</th>\n",
       "      <th>min</th>\n",
       "      <th>25%</th>\n",
       "      <th>50%</th>\n",
       "      <th>75%</th>\n",
       "      <th>max</th>\n",
       "    </tr>\n",
       "  </thead>\n",
       "  <tbody>\n",
       "    <tr>\n",
       "      <th>unit_price</th>\n",
       "      <td>7829.00</td>\n",
       "      <td>7.82</td>\n",
       "      <td>5.39</td>\n",
       "      <td>0.19</td>\n",
       "      <td>3.99</td>\n",
       "      <td>7.19</td>\n",
       "      <td>11.19</td>\n",
       "      <td>23.99</td>\n",
       "    </tr>\n",
       "    <tr>\n",
       "      <th>quantity</th>\n",
       "      <td>7829.00</td>\n",
       "      <td>2.50</td>\n",
       "      <td>1.12</td>\n",
       "      <td>1.00</td>\n",
       "      <td>1.00</td>\n",
       "      <td>3.00</td>\n",
       "      <td>4.00</td>\n",
       "      <td>4.00</td>\n",
       "    </tr>\n",
       "    <tr>\n",
       "      <th>total</th>\n",
       "      <td>7829.00</td>\n",
       "      <td>19.71</td>\n",
       "      <td>17.45</td>\n",
       "      <td>0.19</td>\n",
       "      <td>6.57</td>\n",
       "      <td>14.97</td>\n",
       "      <td>28.47</td>\n",
       "      <td>95.96</td>\n",
       "    </tr>\n",
       "  </tbody>\n",
       "</table>\n",
       "</div>"
      ],
      "text/plain": [
       "             count  mean   std  min  25%   50%   75%   max\n",
       "unit_price 7829.00  7.82  5.39 0.19 3.99  7.19 11.19 23.99\n",
       "quantity   7829.00  2.50  1.12 1.00 1.00  3.00  4.00  4.00\n",
       "total      7829.00 19.71 17.45 0.19 6.57 14.97 28.47 95.96"
      ]
     },
     "execution_count": 30,
     "metadata": {},
     "output_type": "execute_result"
    }
   ],
   "source": [
    "df.describe().T"
   ]
  },
  {
   "cell_type": "code",
   "execution_count": 31,
   "id": "23044a28",
   "metadata": {},
   "outputs": [
    {
     "data": {
      "text/html": [
       "<div>\n",
       "<style scoped>\n",
       "    .dataframe tbody tr th:only-of-type {\n",
       "        vertical-align: middle;\n",
       "    }\n",
       "\n",
       "    .dataframe tbody tr th {\n",
       "        vertical-align: top;\n",
       "    }\n",
       "\n",
       "    .dataframe thead th {\n",
       "        text-align: right;\n",
       "    }\n",
       "</style>\n",
       "<table border=\"1\" class=\"dataframe\">\n",
       "  <thead>\n",
       "    <tr style=\"text-align: right;\">\n",
       "      <th></th>\n",
       "      <th>mean</th>\n",
       "      <th>median</th>\n",
       "      <th>std_dev</th>\n",
       "      <th>min_val</th>\n",
       "      <th>max_val</th>\n",
       "      <th>null_values</th>\n",
       "      <th>lower_bound</th>\n",
       "      <th>upper_bound</th>\n",
       "      <th>outliers_from_IQR</th>\n",
       "      <th>outliers_from_Zscore</th>\n",
       "    </tr>\n",
       "  </thead>\n",
       "  <tbody>\n",
       "    <tr>\n",
       "      <th>unit_price</th>\n",
       "      <td>7.82</td>\n",
       "      <td>7.19</td>\n",
       "      <td>5.39</td>\n",
       "      <td>0.19</td>\n",
       "      <td>23.99</td>\n",
       "      <td>0</td>\n",
       "      <td>-6.81</td>\n",
       "      <td>21.99</td>\n",
       "      <td>31</td>\n",
       "      <td>13</td>\n",
       "    </tr>\n",
       "    <tr>\n",
       "      <th>quantity</th>\n",
       "      <td>2.50</td>\n",
       "      <td>3.00</td>\n",
       "      <td>1.12</td>\n",
       "      <td>1.00</td>\n",
       "      <td>4.00</td>\n",
       "      <td>0</td>\n",
       "      <td>-3.50</td>\n",
       "      <td>8.50</td>\n",
       "      <td>0</td>\n",
       "      <td>0</td>\n",
       "    </tr>\n",
       "    <tr>\n",
       "      <th>total</th>\n",
       "      <td>19.71</td>\n",
       "      <td>14.97</td>\n",
       "      <td>17.45</td>\n",
       "      <td>0.19</td>\n",
       "      <td>95.96</td>\n",
       "      <td>0</td>\n",
       "      <td>-26.28</td>\n",
       "      <td>61.32</td>\n",
       "      <td>300</td>\n",
       "      <td>146</td>\n",
       "    </tr>\n",
       "  </tbody>\n",
       "</table>\n",
       "</div>"
      ],
      "text/plain": [
       "            mean  median  std_dev  min_val  max_val  null_values  lower_bound  \\\n",
       "unit_price  7.82    7.19     5.39     0.19    23.99            0        -6.81   \n",
       "quantity    2.50    3.00     1.12     1.00     4.00            0        -3.50   \n",
       "total      19.71   14.97    17.45     0.19    95.96            0       -26.28   \n",
       "\n",
       "            upper_bound  outliers_from_IQR  outliers_from_Zscore  \n",
       "unit_price        21.99                 31                    13  \n",
       "quantity           8.50                  0                     0  \n",
       "total             61.32                300                   146  "
      ]
     },
     "execution_count": 31,
     "metadata": {},
     "output_type": "execute_result"
    }
   ],
   "source": [
    "numerical_vars = ['unit_price','quantity','total']\n",
    "\n",
    "summaryStats(df, numerical_vars)"
   ]
  },
  {
   "cell_type": "code",
   "execution_count": 32,
   "id": "0804e471",
   "metadata": {},
   "outputs": [
    {
     "name": "stdout",
     "output_type": "stream",
     "text": [
      "<class 'pandas.core.frame.DataFrame'>\n",
      "Int64Index: 7829 entries, 0 to 7828\n",
      "Data columns (total 9 columns):\n",
      " #   Column          Non-Null Count  Dtype  \n",
      "---  ------          --------------  -----  \n",
      " 0   transaction_id  7829 non-null   object \n",
      " 1   timestamp       7829 non-null   object \n",
      " 2   product_id      7829 non-null   object \n",
      " 3   category        7829 non-null   object \n",
      " 4   customer_type   7829 non-null   object \n",
      " 5   unit_price      7829 non-null   float64\n",
      " 6   quantity        7829 non-null   int64  \n",
      " 7   total           7829 non-null   float64\n",
      " 8   payment_type    7829 non-null   object \n",
      "dtypes: float64(2), int64(1), object(6)\n",
      "memory usage: 611.6+ KB\n"
     ]
    }
   ],
   "source": [
    "df.info()"
   ]
  },
  {
   "cell_type": "code",
   "execution_count": 33,
   "id": "5fc90298",
   "metadata": {
    "scrolled": true
   },
   "outputs": [
    {
     "name": "stdout",
     "output_type": "stream",
     "text": [
      "Unique values for transaction_id 7829\n",
      "Unique values for timestamp 7738\n",
      "Unique values for product_id 300\n",
      "Unique values for category 22\n",
      "Unique values for customer_type 5\n",
      "Unique values for payment_type 4\n"
     ]
    }
   ],
   "source": [
    "categorical_vars = ['transaction_id', 'timestamp', 'product_id', 'category',\n",
    "       'customer_type', 'payment_type']\n",
    "for cat in categorical_vars:\n",
    "    print(\"Unique values for\",cat, len(df[cat].unique()))"
   ]
  },
  {
   "cell_type": "markdown",
   "id": "02a57441",
   "metadata": {},
   "source": [
    "**Observatios:**\n",
    ">- By looking at the Summery Stats, total price has around 300 outliers. where as unit price has around 30 outliers.\n",
    ">- All the datatypes look appropriate according to the column name.\n",
    ">- there are no nulls in the dataset\n",
    ">- all the transaction_ids are unique (My initial thought was multiple rows can have same transaction_id as customer can buy multiple products using single transaction). As this column has all the unique values it will be of no use for EDA.\n",
    ">- Timestamp has 7738 values. It contain date as well as the time. We can create separate column for date and for time, We can bucket this category into 4 shifts of 6 hours and see in which period of day we are getting more traffic.\n",
    ">- It looks like there are 300 products of 22 different categories in the store.\n",
    ">- As these big numbers for categorical variable, we might want to see which products have maximum sale and focus on them, where as for category column we can go for bucketing.\n",
    ">- There are 5 customer types and 4 payment types and we can use these categories as it is for visualization.\n",
    "\n",
    "    \n",
    "* [Go to DataPrep](#data-prep)"
   ]
  },
  {
   "cell_type": "code",
   "execution_count": 34,
   "id": "30051cfa",
   "metadata": {},
   "outputs": [],
   "source": [
    "df['date'] = df['timestamp'].str[0:10]"
   ]
  },
  {
   "cell_type": "code",
   "execution_count": 35,
   "id": "92667ebd",
   "metadata": {},
   "outputs": [
    {
     "name": "stdout",
     "output_type": "stream",
     "text": [
      "0       False\n",
      "1       False\n",
      "2       False\n",
      "3       False\n",
      "4       False\n",
      "        ...  \n",
      "7824    False\n",
      "7825    False\n",
      "7826    False\n",
      "7827    False\n",
      "7828    False\n",
      "Name: timestamp, Length: 7829, dtype: bool\n"
     ]
    }
   ],
   "source": [
    "print(df['timestamp'].str[11:13] < '06')"
   ]
  },
  {
   "cell_type": "code",
   "execution_count": 36,
   "id": "83226e08",
   "metadata": {},
   "outputs": [],
   "source": [
    "df.loc[(df['timestamp'].str[11:13] < '06'), \"time_of_day\"] = 'Late Night'\n",
    "df.loc[(df['timestamp'].str[11:13] < '10') & (df['timestamp'].str[11:13] >= '06'), \"time_of_day\"] = 'Morning'\n",
    "df.loc[(df['timestamp'].str[11:13] < '14') & (df['timestamp'].str[11:13] >= '10'), \"time_of_day\"] = 'Noon'\n",
    "df.loc[(df['timestamp'].str[11:13] < '18') & (df['timestamp'].str[11:13] >= '14'), \"time_of_day\"] = 'Afternoon'\n",
    "df.loc[(df['timestamp'].str[11:13] < '20') & (df['timestamp'].str[11:13] >= '18'), \"time_of_day\"] = 'Evening'\n",
    "df.loc[(df['timestamp'].str[11:13] < '24') & (df['timestamp'].str[11:13] >= '20'), \"time_of_day\"] = 'Night'"
   ]
  },
  {
   "cell_type": "code",
   "execution_count": 37,
   "id": "6d53edd7",
   "metadata": {},
   "outputs": [
    {
     "name": "stdout",
     "output_type": "stream",
     "text": [
      "Unique values for transaction_id 7829\n",
      "Unique values for timestamp 7738\n",
      "Unique values for product_id 300\n",
      "Unique values for category 22\n",
      "Unique values for customer_type 5\n",
      "Unique values for payment_type 4\n",
      "Unique values for date 7\n",
      "Unique values for time_of_day 4\n"
     ]
    }
   ],
   "source": [
    "categorical_vars = ['transaction_id', 'timestamp', 'product_id', 'category',\n",
    "       'customer_type', 'payment_type','date','time_of_day']\n",
    "for cat in categorical_vars:\n",
    "    print(\"Unique values for\",cat, len(df[cat].unique()))"
   ]
  },
  {
   "cell_type": "code",
   "execution_count": 38,
   "id": "3ea75ba6",
   "metadata": {},
   "outputs": [
    {
     "data": {
      "text/plain": [
       "array(['fruit', 'vegetables', 'refrigerated items', 'frozen',\n",
       "       'spices and herbs', 'canned foods', 'packaged foods',\n",
       "       'condiments and sauces', 'beverages', 'dairy', 'cheese', 'meat',\n",
       "       'seafood', 'baked goods', 'baking', 'snacks', 'baby products',\n",
       "       'pets', 'personal care', 'medicine', 'kitchen',\n",
       "       'cleaning products'], dtype=object)"
      ]
     },
     "execution_count": 38,
     "metadata": {},
     "output_type": "execute_result"
    }
   ],
   "source": [
    "df['category'].unique()"
   ]
  },
  {
   "cell_type": "code",
   "execution_count": 39,
   "id": "d7a3d6c8",
   "metadata": {},
   "outputs": [],
   "source": [
    "kitchen = ['kitchen', 'baking', 'baked goods', 'spices and herbs', 'condiments and sauces']\n",
    "Other = ['personal care', 'medicine', 'baby products', 'cleaning products', 'pets']\n",
    "cold_storage = ['canned foods', 'packaged foods', 'snacks', 'fruit', 'vegetables']\n",
    "frozen_storage = ['dairy', 'cheese', 'seafood', 'meat']\n",
    "deep_freeze = ['beverages', 'refrigerated items', 'frozen']\n"
   ]
  },
  {
   "cell_type": "code",
   "execution_count": 40,
   "id": "c1637c2b",
   "metadata": {},
   "outputs": [],
   "source": [
    "df.loc[df['category'].isin(kitchen), \"category_type\"] = 'Kitchen'\n",
    "df.loc[df['category'].isin(Other), \"category_type\"] = 'Other'\n",
    "df.loc[df['category'].isin(cold_storage), \"category_type\"] = 'colder storage'\n",
    "df.loc[df['category'].isin(frozen_storage), \"category_type\"] = 'frozen'\n",
    "df.loc[df['category'].isin(deep_freeze), \"category_type\"] = 'deep freeze'"
   ]
  },
  {
   "cell_type": "code",
   "execution_count": 41,
   "id": "3023eda2",
   "metadata": {},
   "outputs": [
    {
     "data": {
      "text/html": [
       "<div>\n",
       "<style scoped>\n",
       "    .dataframe tbody tr th:only-of-type {\n",
       "        vertical-align: middle;\n",
       "    }\n",
       "\n",
       "    .dataframe tbody tr th {\n",
       "        vertical-align: top;\n",
       "    }\n",
       "\n",
       "    .dataframe thead th {\n",
       "        text-align: right;\n",
       "    }\n",
       "</style>\n",
       "<table border=\"1\" class=\"dataframe\">\n",
       "  <thead>\n",
       "    <tr style=\"text-align: right;\">\n",
       "      <th></th>\n",
       "      <th>transaction_id</th>\n",
       "      <th>timestamp</th>\n",
       "      <th>product_id</th>\n",
       "      <th>category</th>\n",
       "      <th>customer_type</th>\n",
       "      <th>unit_price</th>\n",
       "      <th>quantity</th>\n",
       "      <th>total</th>\n",
       "      <th>payment_type</th>\n",
       "      <th>date</th>\n",
       "      <th>time_of_day</th>\n",
       "      <th>category_type</th>\n",
       "    </tr>\n",
       "  </thead>\n",
       "  <tbody>\n",
       "    <tr>\n",
       "      <th>0</th>\n",
       "      <td>a1c82654-c52c-45b3-8ce8-4c2a1efe63ed</td>\n",
       "      <td>2022-03-02 09:51:38</td>\n",
       "      <td>3bc6c1ea-0198-46de-9ffd-514ae3338713</td>\n",
       "      <td>fruit</td>\n",
       "      <td>gold</td>\n",
       "      <td>3.99</td>\n",
       "      <td>2</td>\n",
       "      <td>7.98</td>\n",
       "      <td>e-wallet</td>\n",
       "      <td>2022-03-02</td>\n",
       "      <td>Morning</td>\n",
       "      <td>colder storage</td>\n",
       "    </tr>\n",
       "    <tr>\n",
       "      <th>1</th>\n",
       "      <td>931ad550-09e8-4da6-beaa-8c9d17be9c60</td>\n",
       "      <td>2022-03-06 10:33:59</td>\n",
       "      <td>ad81b46c-bf38-41cf-9b54-5fe7f5eba93e</td>\n",
       "      <td>fruit</td>\n",
       "      <td>standard</td>\n",
       "      <td>3.99</td>\n",
       "      <td>1</td>\n",
       "      <td>3.99</td>\n",
       "      <td>e-wallet</td>\n",
       "      <td>2022-03-06</td>\n",
       "      <td>Noon</td>\n",
       "      <td>colder storage</td>\n",
       "    </tr>\n",
       "    <tr>\n",
       "      <th>2</th>\n",
       "      <td>ae133534-6f61-4cd6-b6b8-d1c1d8d90aea</td>\n",
       "      <td>2022-03-04 17:20:21</td>\n",
       "      <td>7c55cbd4-f306-4c04-a030-628cbe7867c1</td>\n",
       "      <td>fruit</td>\n",
       "      <td>premium</td>\n",
       "      <td>0.19</td>\n",
       "      <td>2</td>\n",
       "      <td>0.38</td>\n",
       "      <td>e-wallet</td>\n",
       "      <td>2022-03-04</td>\n",
       "      <td>Afternoon</td>\n",
       "      <td>colder storage</td>\n",
       "    </tr>\n",
       "    <tr>\n",
       "      <th>3</th>\n",
       "      <td>157cebd9-aaf0-475d-8a11-7c8e0f5b76e4</td>\n",
       "      <td>2022-03-02 17:23:58</td>\n",
       "      <td>80da8348-1707-403f-8be7-9e6deeccc883</td>\n",
       "      <td>fruit</td>\n",
       "      <td>gold</td>\n",
       "      <td>0.19</td>\n",
       "      <td>4</td>\n",
       "      <td>0.76</td>\n",
       "      <td>e-wallet</td>\n",
       "      <td>2022-03-02</td>\n",
       "      <td>Afternoon</td>\n",
       "      <td>colder storage</td>\n",
       "    </tr>\n",
       "    <tr>\n",
       "      <th>4</th>\n",
       "      <td>a81a6cd3-5e0c-44a2-826c-aea43e46c514</td>\n",
       "      <td>2022-03-05 14:32:43</td>\n",
       "      <td>7f5e86e6-f06f-45f6-bf44-27b095c9ad1d</td>\n",
       "      <td>fruit</td>\n",
       "      <td>basic</td>\n",
       "      <td>4.49</td>\n",
       "      <td>2</td>\n",
       "      <td>8.98</td>\n",
       "      <td>debit card</td>\n",
       "      <td>2022-03-05</td>\n",
       "      <td>Afternoon</td>\n",
       "      <td>colder storage</td>\n",
       "    </tr>\n",
       "    <tr>\n",
       "      <th>...</th>\n",
       "      <td>...</td>\n",
       "      <td>...</td>\n",
       "      <td>...</td>\n",
       "      <td>...</td>\n",
       "      <td>...</td>\n",
       "      <td>...</td>\n",
       "      <td>...</td>\n",
       "      <td>...</td>\n",
       "      <td>...</td>\n",
       "      <td>...</td>\n",
       "      <td>...</td>\n",
       "      <td>...</td>\n",
       "    </tr>\n",
       "    <tr>\n",
       "      <th>7824</th>\n",
       "      <td>6c19b9fc-f86d-4526-9dfe-d8027a4d13ee</td>\n",
       "      <td>2022-03-03 18:22:09</td>\n",
       "      <td>bc6187a9-d508-482b-9ca6-590d1cc7524f</td>\n",
       "      <td>cleaning products</td>\n",
       "      <td>basic</td>\n",
       "      <td>14.19</td>\n",
       "      <td>2</td>\n",
       "      <td>28.38</td>\n",
       "      <td>e-wallet</td>\n",
       "      <td>2022-03-03</td>\n",
       "      <td>Evening</td>\n",
       "      <td>Other</td>\n",
       "    </tr>\n",
       "    <tr>\n",
       "      <th>7825</th>\n",
       "      <td>1c69824b-e399-4b79-a5e7-04a3a7db0681</td>\n",
       "      <td>2022-03-04 19:14:46</td>\n",
       "      <td>707e4237-191c-4cc9-85af-383a6c1cb2ab</td>\n",
       "      <td>cleaning products</td>\n",
       "      <td>standard</td>\n",
       "      <td>16.99</td>\n",
       "      <td>1</td>\n",
       "      <td>16.99</td>\n",
       "      <td>credit card</td>\n",
       "      <td>2022-03-04</td>\n",
       "      <td>Evening</td>\n",
       "      <td>Other</td>\n",
       "    </tr>\n",
       "    <tr>\n",
       "      <th>7826</th>\n",
       "      <td>79aee7d6-1405-4345-9a15-92541e9e1e74</td>\n",
       "      <td>2022-03-03 14:00:09</td>\n",
       "      <td>a9325c1a-2715-41df-b7f4-3078fa5ecd97</td>\n",
       "      <td>cleaning products</td>\n",
       "      <td>basic</td>\n",
       "      <td>14.19</td>\n",
       "      <td>2</td>\n",
       "      <td>28.38</td>\n",
       "      <td>credit card</td>\n",
       "      <td>2022-03-03</td>\n",
       "      <td>Afternoon</td>\n",
       "      <td>Other</td>\n",
       "    </tr>\n",
       "    <tr>\n",
       "      <th>7827</th>\n",
       "      <td>e5cc4f88-e5b7-4ad5-bc1b-12a828a14f55</td>\n",
       "      <td>2022-03-04 15:11:38</td>\n",
       "      <td>707e4237-191c-4cc9-85af-383a6c1cb2ab</td>\n",
       "      <td>cleaning products</td>\n",
       "      <td>basic</td>\n",
       "      <td>16.99</td>\n",
       "      <td>4</td>\n",
       "      <td>67.96</td>\n",
       "      <td>cash</td>\n",
       "      <td>2022-03-04</td>\n",
       "      <td>Afternoon</td>\n",
       "      <td>Other</td>\n",
       "    </tr>\n",
       "    <tr>\n",
       "      <th>7828</th>\n",
       "      <td>afd70b4f-ee21-402d-8d8f-0d9e13c2bea6</td>\n",
       "      <td>2022-03-06 13:50:36</td>\n",
       "      <td>d6ccd088-11be-4c25-aa1f-ea87c01a04db</td>\n",
       "      <td>cleaning products</td>\n",
       "      <td>non-member</td>\n",
       "      <td>14.99</td>\n",
       "      <td>4</td>\n",
       "      <td>59.96</td>\n",
       "      <td>debit card</td>\n",
       "      <td>2022-03-06</td>\n",
       "      <td>Noon</td>\n",
       "      <td>Other</td>\n",
       "    </tr>\n",
       "  </tbody>\n",
       "</table>\n",
       "<p>7829 rows × 12 columns</p>\n",
       "</div>"
      ],
      "text/plain": [
       "                            transaction_id            timestamp  \\\n",
       "0     a1c82654-c52c-45b3-8ce8-4c2a1efe63ed  2022-03-02 09:51:38   \n",
       "1     931ad550-09e8-4da6-beaa-8c9d17be9c60  2022-03-06 10:33:59   \n",
       "2     ae133534-6f61-4cd6-b6b8-d1c1d8d90aea  2022-03-04 17:20:21   \n",
       "3     157cebd9-aaf0-475d-8a11-7c8e0f5b76e4  2022-03-02 17:23:58   \n",
       "4     a81a6cd3-5e0c-44a2-826c-aea43e46c514  2022-03-05 14:32:43   \n",
       "...                                    ...                  ...   \n",
       "7824  6c19b9fc-f86d-4526-9dfe-d8027a4d13ee  2022-03-03 18:22:09   \n",
       "7825  1c69824b-e399-4b79-a5e7-04a3a7db0681  2022-03-04 19:14:46   \n",
       "7826  79aee7d6-1405-4345-9a15-92541e9e1e74  2022-03-03 14:00:09   \n",
       "7827  e5cc4f88-e5b7-4ad5-bc1b-12a828a14f55  2022-03-04 15:11:38   \n",
       "7828  afd70b4f-ee21-402d-8d8f-0d9e13c2bea6  2022-03-06 13:50:36   \n",
       "\n",
       "                                product_id           category customer_type  \\\n",
       "0     3bc6c1ea-0198-46de-9ffd-514ae3338713              fruit          gold   \n",
       "1     ad81b46c-bf38-41cf-9b54-5fe7f5eba93e              fruit      standard   \n",
       "2     7c55cbd4-f306-4c04-a030-628cbe7867c1              fruit       premium   \n",
       "3     80da8348-1707-403f-8be7-9e6deeccc883              fruit          gold   \n",
       "4     7f5e86e6-f06f-45f6-bf44-27b095c9ad1d              fruit         basic   \n",
       "...                                    ...                ...           ...   \n",
       "7824  bc6187a9-d508-482b-9ca6-590d1cc7524f  cleaning products         basic   \n",
       "7825  707e4237-191c-4cc9-85af-383a6c1cb2ab  cleaning products      standard   \n",
       "7826  a9325c1a-2715-41df-b7f4-3078fa5ecd97  cleaning products         basic   \n",
       "7827  707e4237-191c-4cc9-85af-383a6c1cb2ab  cleaning products         basic   \n",
       "7828  d6ccd088-11be-4c25-aa1f-ea87c01a04db  cleaning products    non-member   \n",
       "\n",
       "      unit_price  quantity  total payment_type        date time_of_day  \\\n",
       "0           3.99         2   7.98     e-wallet  2022-03-02     Morning   \n",
       "1           3.99         1   3.99     e-wallet  2022-03-06        Noon   \n",
       "2           0.19         2   0.38     e-wallet  2022-03-04   Afternoon   \n",
       "3           0.19         4   0.76     e-wallet  2022-03-02   Afternoon   \n",
       "4           4.49         2   8.98   debit card  2022-03-05   Afternoon   \n",
       "...          ...       ...    ...          ...         ...         ...   \n",
       "7824       14.19         2  28.38     e-wallet  2022-03-03     Evening   \n",
       "7825       16.99         1  16.99  credit card  2022-03-04     Evening   \n",
       "7826       14.19         2  28.38  credit card  2022-03-03   Afternoon   \n",
       "7827       16.99         4  67.96         cash  2022-03-04   Afternoon   \n",
       "7828       14.99         4  59.96   debit card  2022-03-06        Noon   \n",
       "\n",
       "       category_type  \n",
       "0     colder storage  \n",
       "1     colder storage  \n",
       "2     colder storage  \n",
       "3     colder storage  \n",
       "4     colder storage  \n",
       "...              ...  \n",
       "7824           Other  \n",
       "7825           Other  \n",
       "7826           Other  \n",
       "7827           Other  \n",
       "7828           Other  \n",
       "\n",
       "[7829 rows x 12 columns]"
      ]
     },
     "execution_count": 41,
     "metadata": {},
     "output_type": "execute_result"
    }
   ],
   "source": [
    "df"
   ]
  },
  {
   "cell_type": "markdown",
   "id": "eb69db4a",
   "metadata": {
    "id": "N-krPtHdHNrh"
   },
   "source": [
    "---\n",
    "\n",
    "## Section 4 - Visualisation\n",
    "\n",
    "Now that you've computed some descriptive statistics of the dataset, let's create some visualisations. You may use any package that you wish for visualisation, however, some helper functions have been provided that make use of the `seaborn` package. If you wish to use these helper functions, ensure to run the below cells that install and import `seaborn`."
   ]
  },
  {
   "cell_type": "markdown",
   "id": "3e4115e6",
   "metadata": {
    "id": "rNvl5rGeKv-h"
   },
   "source": [
    "To analyse the dataset, below are snippets of code that you can use as helper functions to visualise different columns within the dataset. They include:\n",
    "\n",
    "- plot_continuous_distribution = this is to visualise the distribution of numeric columns\n",
    "- get_unique_values = this is to show how many unique values are present within a column\n",
    "- plot_categorical_distribution = this is to visualise the distribution of categorical columns\n",
    "- correlation_plot = this is to plot the correlations between the numeric columns within the data"
   ]
  },
  {
   "cell_type": "code",
   "execution_count": 42,
   "id": "82595177",
   "metadata": {
    "id": "AyUPE4QRKcYQ"
   },
   "outputs": [],
   "source": [
    "def plot_continuous_distribution(data: pd.DataFrame = None, column: str = None, height: int = 5):\n",
    "  _ = sns.displot(data, x=column, kde=True, height=height, aspect=height/5).set(title=f'Distribution of {column}');\n",
    "\n",
    "def get_unique_values(data, column):\n",
    "  num_unique_values = len(data[column].unique())\n",
    "  value_counts = data[column].value_counts()\n",
    "  print(f\"Column: {column} has {num_unique_values} unique values\\n\")\n",
    "  print(value_counts)\n",
    "\n",
    "def plot_categorical_distribution(data: pd.DataFrame = None, column: str = None, aspect: int = 1):\n",
    "  _ = sns.catplot(data=data, x=column, kind='count', height=5, aspect=aspect).set(title=f'Distribution of {column}');\n",
    "\n",
    "def correlation_plot(data: pd.DataFrame = None):\n",
    "  corr = df.corr()\n",
    "  corr.style.background_gradient(cmap='coolwarm')"
   ]
  },
  {
   "cell_type": "markdown",
   "id": "7090dbeb",
   "metadata": {
    "id": "Atm2hxjv70Wr"
   },
   "source": [
    "Now it is your chance to visualise the columns, give it your best shot! As well as simply visualising the columns, try to interpret what the results mean in the context of the client."
   ]
  },
  {
   "cell_type": "markdown",
   "id": "d4e22c24",
   "metadata": {},
   "source": [
    "**Numerical Variables**"
   ]
  },
  {
   "cell_type": "code",
   "execution_count": 43,
   "id": "ee089847",
   "metadata": {},
   "outputs": [
    {
     "data": {
      "text/plain": [
       "<AxesSubplot:>"
      ]
     },
     "execution_count": 43,
     "metadata": {},
     "output_type": "execute_result"
    },
    {
     "data": {
      "image/png": "[encoded data removed]",
      "text/plain": [
       "<Figure size 432x288 with 2 Axes>"
      ]
     },
     "metadata": {
      "needs_background": "light"
     },
     "output_type": "display_data"
    }
   ],
   "source": [
    "sns.heatmap(df.corr(), annot=True)"
   ]
  },
  {
   "cell_type": "code",
   "execution_count": 44,
   "id": "b98837e6",
   "metadata": {},
   "outputs": [
    {
     "data": {
      "text/plain": [
       "['unit_price', 'quantity', 'total']"
      ]
     },
     "execution_count": 44,
     "metadata": {},
     "output_type": "execute_result"
    }
   ],
   "source": [
    "numerical_vars"
   ]
  },
  {
   "cell_type": "code",
   "execution_count": 45,
   "id": "ab14460c",
   "metadata": {},
   "outputs": [
    {
     "data": {
      "image/png": "[encoded data removed]",
      "text/plain": [
       "<Figure size 360x360 with 1 Axes>"
      ]
     },
     "metadata": {
      "needs_background": "light"
     },
     "output_type": "display_data"
    },
    {
     "data": {
      "image/png": "[encoded data removed]",
      "text/plain": [
       "<Figure size 360x360 with 1 Axes>"
      ]
     },
     "metadata": {
      "needs_background": "light"
     },
     "output_type": "display_data"
    },
    {
     "data": {
      "image/png": "[encoded data removed]",
      "text/plain": [
       "<Figure size 360x360 with 1 Axes>"
      ]
     },
     "metadata": {
      "needs_background": "light"
     },
     "output_type": "display_data"
    }
   ],
   "source": [
    "for i in range(len(numerical_vars)):\n",
    "    plot_continuous_distribution(df,numerical_vars[i])"
   ]
  },
  {
   "cell_type": "markdown",
   "id": "ac9553bb",
   "metadata": {},
   "source": [
    "**Observation**\n",
    ">- Total price is primary dependent on the unit price.\n",
    ">- Most of the iteams have unit price below $10. After that count of products for specific unit price start to decrease.\n",
    ">- Count for quantity is almost constant.\n",
    ">- As the total price increases, count decreases."
   ]
  },
  {
   "cell_type": "code",
   "execution_count": 46,
   "id": "7324fa86",
   "metadata": {},
   "outputs": [
    {
     "data": {
      "text/plain": [
       "<seaborn.axisgrid.FacetGrid at 0x12da200c160>"
      ]
     },
     "execution_count": 46,
     "metadata": {},
     "output_type": "execute_result"
    },
    {
     "data": {
      "image/png": "[encoded data removed]",
      "text/plain": [
       "<Figure size 804.75x360 with 1 Axes>"
      ]
     },
     "metadata": {
      "needs_background": "light"
     },
     "output_type": "display_data"
    }
   ],
   "source": [
    "sns.catplot(data=df,x='date',kind='count',hue='time_of_day',aspect=2)"
   ]
  },
  {
   "cell_type": "code",
   "execution_count": 47,
   "id": "df006962",
   "metadata": {
    "scrolled": false
   },
   "outputs": [
    {
     "data": {
      "text/plain": [
       "<seaborn.axisgrid.FacetGrid at 0x12da00cbc70>"
      ]
     },
     "execution_count": 47,
     "metadata": {},
     "output_type": "execute_result"
    },
    {
     "data": {
      "image/png": "[encoded data removed]",
      "text/plain": [
       "<Figure size 809.75x360 with 1 Axes>"
      ]
     },
     "metadata": {
      "needs_background": "light"
     },
     "output_type": "display_data"
    }
   ],
   "source": [
    "sns.catplot(data=df,x='customer_type',kind='count',hue='payment_type',aspect=2)"
   ]
  },
  {
   "cell_type": "code",
   "execution_count": 48,
   "id": "f607f7d5",
   "metadata": {},
   "outputs": [
    {
     "data": {
      "text/plain": [
       "<seaborn.axisgrid.FacetGrid at 0x12da221ae80>"
      ]
     },
     "execution_count": 48,
     "metadata": {},
     "output_type": "execute_result"
    },
    {
     "data": {
      "image/png": "[encoded data removed]",
      "text/plain": [
       "<Figure size 1080x360 with 5 Axes>"
      ]
     },
     "metadata": {
      "needs_background": "light"
     },
     "output_type": "display_data"
    }
   ],
   "source": [
    "sns.catplot(data=df,\n",
    "           x='payment_type',\n",
    "           y='total',\n",
    "           col='customer_type',\n",
    "           kind='bar',\n",
    "           aspect=0.6)"
   ]
  },
  {
   "cell_type": "code",
   "execution_count": 49,
   "id": "aa020a09",
   "metadata": {},
   "outputs": [
    {
     "data": {
      "image/png": "[encoded data removed]",
      "text/plain": [
       "<Figure size 1440x864 with 10 Axes>"
      ]
     },
     "metadata": {
      "needs_background": "light"
     },
     "output_type": "display_data"
    }
   ],
   "source": [
    "f = plt.figure(figsize=(20,12))\n",
    "categorical_vars = ['category_type', 'customer_type', 'payment_type','date','time_of_day']\n",
    "for i, col in enumerate(categorical_vars):\n",
    "    \n",
    "    plt.subplot(5, 2, (2*(i+1))-1) # row 1, col 2 index 1\n",
    "    sns.countplot(data=df, x=col)\n",
    "    plt.title(col + ' Vs Count')\n",
    "    plt.xlabel(col)\n",
    "    plt.ylabel('Count')\n",
    "\n",
    "    plt.subplot(5, 2, 2*(i+1)) # index 2\n",
    "    sns.barplot(data=df,\n",
    "           x=categorical_vars[i],\n",
    "           y='total')\n",
    "    plt.title(col + ' Vs total price')\n",
    "    plt.xlabel(col)\n",
    "    plt.ylabel('Total Price')\n",
    "\n",
    "plt.subplots_adjust(left=0.1,\n",
    "                    bottom=0.1,\n",
    "                    right=0.9,\n",
    "                    top=2.0,\n",
    "                    wspace=0.4,\n",
    "                    hspace=0.4)\n",
    "    \n",
    " "
   ]
  },
  {
   "cell_type": "code",
   "execution_count": 56,
   "id": "293ec262",
   "metadata": {},
   "outputs": [],
   "source": [
    "df_group_by_category = df.groupby(['category']).agg({'unit_price':'mean', 'quantity':'sum','total':'sum'})"
   ]
  },
  {
   "cell_type": "code",
   "execution_count": 59,
   "id": "a38af342",
   "metadata": {},
   "outputs": [
    {
     "data": {
      "text/html": [
       "<div>\n",
       "<style scoped>\n",
       "    .dataframe tbody tr th:only-of-type {\n",
       "        vertical-align: middle;\n",
       "    }\n",
       "\n",
       "    .dataframe tbody tr th {\n",
       "        vertical-align: top;\n",
       "    }\n",
       "\n",
       "    .dataframe thead th {\n",
       "        text-align: right;\n",
       "    }\n",
       "</style>\n",
       "<table border=\"1\" class=\"dataframe\">\n",
       "  <thead>\n",
       "    <tr style=\"text-align: right;\">\n",
       "      <th></th>\n",
       "      <th>unit_price</th>\n",
       "      <th>quantity</th>\n",
       "      <th>total</th>\n",
       "    </tr>\n",
       "    <tr>\n",
       "      <th>category</th>\n",
       "      <th></th>\n",
       "      <th></th>\n",
       "      <th></th>\n",
       "    </tr>\n",
       "  </thead>\n",
       "  <tbody>\n",
       "    <tr>\n",
       "      <th>fruit</th>\n",
       "      <td>2.50</td>\n",
       "      <td>2439</td>\n",
       "      <td>6124.21</td>\n",
       "    </tr>\n",
       "    <tr>\n",
       "      <th>vegetables</th>\n",
       "      <td>2.37</td>\n",
       "      <td>2124</td>\n",
       "      <td>5070.46</td>\n",
       "    </tr>\n",
       "    <tr>\n",
       "      <th>packaged foods</th>\n",
       "      <td>4.92</td>\n",
       "      <td>1280</td>\n",
       "      <td>6373.70</td>\n",
       "    </tr>\n",
       "    <tr>\n",
       "      <th>baked goods</th>\n",
       "      <td>7.62</td>\n",
       "      <td>1089</td>\n",
       "      <td>8348.21</td>\n",
       "    </tr>\n",
       "    <tr>\n",
       "      <th>canned foods</th>\n",
       "      <td>6.27</td>\n",
       "      <td>1082</td>\n",
       "      <td>6743.48</td>\n",
       "    </tr>\n",
       "    <tr>\n",
       "      <th>refrigerated items</th>\n",
       "      <td>6.92</td>\n",
       "      <td>1065</td>\n",
       "      <td>7436.45</td>\n",
       "    </tr>\n",
       "    <tr>\n",
       "      <th>kitchen</th>\n",
       "      <td>15.10</td>\n",
       "      <td>955</td>\n",
       "      <td>14456.65</td>\n",
       "    </tr>\n",
       "    <tr>\n",
       "      <th>dairy</th>\n",
       "      <td>7.98</td>\n",
       "      <td>950</td>\n",
       "      <td>7551.60</td>\n",
       "    </tr>\n",
       "    <tr>\n",
       "      <th>meat</th>\n",
       "      <td>15.01</td>\n",
       "      <td>939</td>\n",
       "      <td>14102.31</td>\n",
       "    </tr>\n",
       "    <tr>\n",
       "      <th>cheese</th>\n",
       "      <td>8.65</td>\n",
       "      <td>783</td>\n",
       "      <td>6861.27</td>\n",
       "    </tr>\n",
       "    <tr>\n",
       "      <th>beverages</th>\n",
       "      <td>12.62</td>\n",
       "      <td>776</td>\n",
       "      <td>9930.64</td>\n",
       "    </tr>\n",
       "    <tr>\n",
       "      <th>cleaning products</th>\n",
       "      <td>12.80</td>\n",
       "      <td>725</td>\n",
       "      <td>9483.75</td>\n",
       "    </tr>\n",
       "    <tr>\n",
       "      <th>seafood</th>\n",
       "      <td>16.06</td>\n",
       "      <td>669</td>\n",
       "      <td>10754.81</td>\n",
       "    </tr>\n",
       "    <tr>\n",
       "      <th>frozen</th>\n",
       "      <td>10.07</td>\n",
       "      <td>660</td>\n",
       "      <td>6590.10</td>\n",
       "    </tr>\n",
       "    <tr>\n",
       "      <th>snacks</th>\n",
       "      <td>2.38</td>\n",
       "      <td>652</td>\n",
       "      <td>1555.18</td>\n",
       "    </tr>\n",
       "    <tr>\n",
       "      <th>baking</th>\n",
       "      <td>5.34</td>\n",
       "      <td>648</td>\n",
       "      <td>3451.82</td>\n",
       "    </tr>\n",
       "    <tr>\n",
       "      <th>medicine</th>\n",
       "      <td>17.15</td>\n",
       "      <td>602</td>\n",
       "      <td>10393.78</td>\n",
       "    </tr>\n",
       "    <tr>\n",
       "      <th>baby products</th>\n",
       "      <td>12.29</td>\n",
       "      <td>543</td>\n",
       "      <td>6704.97</td>\n",
       "    </tr>\n",
       "    <tr>\n",
       "      <th>personal care</th>\n",
       "      <td>9.20</td>\n",
       "      <td>455</td>\n",
       "      <td>4111.45</td>\n",
       "    </tr>\n",
       "    <tr>\n",
       "      <th>condiments and sauces</th>\n",
       "      <td>6.89</td>\n",
       "      <td>450</td>\n",
       "      <td>3111.60</td>\n",
       "    </tr>\n",
       "    <tr>\n",
       "      <th>pets</th>\n",
       "      <td>10.58</td>\n",
       "      <td>395</td>\n",
       "      <td>4205.95</td>\n",
       "    </tr>\n",
       "    <tr>\n",
       "      <th>spices and herbs</th>\n",
       "      <td>3.08</td>\n",
       "      <td>304</td>\n",
       "      <td>946.46</td>\n",
       "    </tr>\n",
       "  </tbody>\n",
       "</table>\n",
       "</div>"
      ],
      "text/plain": [
       "                       unit_price  quantity    total\n",
       "category                                            \n",
       "fruit                        2.50      2439  6124.21\n",
       "vegetables                   2.37      2124  5070.46\n",
       "packaged foods               4.92      1280  6373.70\n",
       "baked goods                  7.62      1089  8348.21\n",
       "canned foods                 6.27      1082  6743.48\n",
       "refrigerated items           6.92      1065  7436.45\n",
       "kitchen                     15.10       955 14456.65\n",
       "dairy                        7.98       950  7551.60\n",
       "meat                        15.01       939 14102.31\n",
       "cheese                       8.65       783  6861.27\n",
       "beverages                   12.62       776  9930.64\n",
       "cleaning products           12.80       725  9483.75\n",
       "seafood                     16.06       669 10754.81\n",
       "frozen                      10.07       660  6590.10\n",
       "snacks                       2.38       652  1555.18\n",
       "baking                       5.34       648  3451.82\n",
       "medicine                    17.15       602 10393.78\n",
       "baby products               12.29       543  6704.97\n",
       "personal care                9.20       455  4111.45\n",
       "condiments and sauces        6.89       450  3111.60\n",
       "pets                        10.58       395  4205.95\n",
       "spices and herbs             3.08       304   946.46"
      ]
     },
     "execution_count": 59,
     "metadata": {},
     "output_type": "execute_result"
    }
   ],
   "source": [
    "df_group_by_category.sort_values(by=['quantity'],ascending=False)"
   ]
  },
  {
   "cell_type": "markdown",
   "id": "502f3d78",
   "metadata": {},
   "source": [
    "**Observations:**\n",
    "\n",
    ">- Count for colder storage is more but price for it is very less\n",
    ">- Count for transactions in the morning is less but price is high\n",
    ">- For other categories count and price are same throughout\n",
    ">- Gold customers use e-wallet and credit card\n",
    ">- Non members mainly use cash\n",
    ">- for premium customer type, majority of total price is paid using credit card\n",
    ">- Customers of basic type pay least amount of price using ewallet\n",
    ">- Fruits and vegetables are the most purchased products eventhough they are not highly profitable for Gala Groceries on the other hand products related to kitchen, meat, seafood and medicines are not sold much but they are highly profitable.\n",
    ">- Spices and herbs, sauces, pet related items are not in demand and dont make much money.\n",
    "\n",
    "**Conclusion**\n",
    "\n",
    ">- Need to keep fresh stock of fruits and vegetables.\n",
    ">- Need to check why spices and herbs are sold in less quantity, is it because the demand is less or is it because they are out of stock?\n",
    ">- Need few more data points which will answer following questions:\n",
    "    >>- What all items are purchased by single customer?\n",
    "    >>- Which items customer was looking for but couldn't puchase as they were out of stock?\n",
    "    >>- How many items are currently stocked for each product?\n",
    "    >>- Is the restocking daily, weekly or is it done whenever product goes out of stock?\n",
    ">- Need more data from multiple stores and for multiple weeks\n"
   ]
  },
  {
   "cell_type": "markdown",
   "id": "b0ce6f87",
   "metadata": {
    "id": "oBin5kdG4iS0"
   },
   "source": [
    "---\n",
    "\n",
    "## Section 5 - Summary\n",
    "\n",
    "We have completed an initial exploratory data analysis on the sample of data provided. We should now have a solid understanding of the data. \n",
    "\n",
    "The client wants to know\n",
    "\n",
    "```\n",
    "\"How to better stock the items that they sell\"\n",
    "```\n",
    "\n",
    "From this dataset, it is impossible to answer that question. In order to make the next step on this project with the client, it is clear that:\n",
    "\n",
    "- We need more rows of data. The current sample is only from 1 store and 1 week worth of data\n",
    "- We need to frame the specific problem statement that we want to solve. The current business problem is too broad, we should narrow down the focus in order to deliver a valuable end product\n",
    "- We need more features. Based on the problem statement that we move forward with, we need more columns (features) that may help us to understand the outcome that we're solving for\n",
    "\n"
   ]
  }
 ],
 "metadata": {
  "kernelspec": {
   "display_name": "Python 3 (ipykernel)",
   "language": "python",
   "name": "python3"
  },
  "language_info": {
   "codemirror_mode": {
    "name": "ipython",
    "version": 3
   },
   "file_extension": ".py",
   "mimetype": "text/x-python",
   "name": "python",
   "nbconvert_exporter": "python",
   "pygments_lexer": "ipython3",
   "version": "3.9.12"
  }
 },
 "nbformat": 4,
 "nbformat_minor": 5
}
